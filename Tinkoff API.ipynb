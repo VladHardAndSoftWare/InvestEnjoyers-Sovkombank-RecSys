{
 "cells": [
  {
   "cell_type": "code",
   "execution_count": 2,
   "metadata": {},
   "outputs": [
    {
     "name": "stdout",
     "output_type": "stream",
     "text": [
      "Requirement already satisfied: tinkoff-investments in c:\\users\\vladm\\anaconda3\\envs\\sovkombank-recsys\\lib\\site-packages (0.2.0b62)\n",
      "Requirement already satisfied: cachetools<6.0.0,>=5.2.0 in c:\\users\\vladm\\anaconda3\\envs\\sovkombank-recsys\\lib\\site-packages (from tinkoff-investments) (5.3.2)\n",
      "Requirement already satisfied: deprecation<3.0.0,>=2.1.0 in c:\\users\\vladm\\anaconda3\\envs\\sovkombank-recsys\\lib\\site-packages (from tinkoff-investments) (2.1.0)\n",
      "Requirement already satisfied: grpcio<2.0.0,>=1.39.0 in c:\\users\\vladm\\anaconda3\\envs\\sovkombank-recsys\\lib\\site-packages (from tinkoff-investments) (1.59.2)\n",
      "Requirement already satisfied: protobuf<5.0.0,>=4.21.6 in c:\\users\\vladm\\anaconda3\\envs\\sovkombank-recsys\\lib\\site-packages (from tinkoff-investments) (4.25.0)\n",
      "Requirement already satisfied: python-dateutil<3.0.0,>=2.8.2 in c:\\users\\vladm\\anaconda3\\envs\\sovkombank-recsys\\lib\\site-packages (from tinkoff-investments) (2.8.2)\n",
      "Requirement already satisfied: tinkoff<0.2.0,>=0.1.1 in c:\\users\\vladm\\anaconda3\\envs\\sovkombank-recsys\\lib\\site-packages (from tinkoff-investments) (0.1.1)\n",
      "Requirement already satisfied: packaging in c:\\users\\vladm\\anaconda3\\envs\\sovkombank-recsys\\lib\\site-packages (from deprecation<3.0.0,>=2.1.0->tinkoff-investments) (23.2)\n",
      "Requirement already satisfied: six>=1.5 in c:\\users\\vladm\\anaconda3\\envs\\sovkombank-recsys\\lib\\site-packages (from python-dateutil<3.0.0,>=2.8.2->tinkoff-investments) (1.16.0)\n"
     ]
    }
   ],
   "source": [
    "!pip install tinkoff-investments"
   ]
  },
  {
   "cell_type": "code",
   "execution_count": 3,
   "metadata": {},
   "outputs": [
    {
     "name": "stdout",
     "output_type": "stream",
     "text": [
      "Collecting python-dotenv\n",
      "  Using cached python_dotenv-1.0.0-py3-none-any.whl (19 kB)\n",
      "Installing collected packages: python-dotenv\n",
      "Successfully installed python-dotenv-1.0.0\n"
     ]
    }
   ],
   "source": [
    "!pip install python-dotenv"
   ]
  },
  {
   "cell_type": "code",
   "execution_count": null,
   "metadata": {},
   "outputs": [],
   "source": [
    "from dotenv import load_dotenv"
   ]
  },
  {
   "cell_type": "code",
   "execution_count": null,
   "metadata": {},
   "outputs": [],
   "source": [
    "from tinkoff.invest import Client\n",
    "\n",
    "TOKEN = 'token'\n",
    "\n",
    "with Client(TOKEN) as client:\n",
    "    print(client.users.get_accounts())"
   ]
  }
 ],
 "metadata": {
  "kernelspec": {
   "display_name": "Python 3",
   "language": "python",
   "name": "python3"
  },
  "language_info": {
   "codemirror_mode": {
    "name": "ipython",
    "version": 3
   },
   "file_extension": ".py",
   "mimetype": "text/x-python",
   "name": "python",
   "nbconvert_exporter": "python",
   "pygments_lexer": "ipython3",
   "version": "3.11.5"
  }
 },
 "nbformat": 4,
 "nbformat_minor": 2
}
