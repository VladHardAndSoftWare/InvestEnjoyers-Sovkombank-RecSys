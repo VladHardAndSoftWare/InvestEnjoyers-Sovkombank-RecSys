{
 "cells": [
  {
   "cell_type": "code",
   "execution_count": 5,
   "metadata": {},
   "outputs": [],
   "source": [
    "from dotenv import load_dotenv\n",
    "import os\n",
    "\n",
    "from datetime import timedelta\n",
    "\n",
    "from tinkoff.invest import CandleInterval, Client\n",
    "from tinkoff.invest.utils import now\n",
    "\n",
    "def figi_converter_share_func(class_code_value, id_value):\n",
    "    \n",
    "    load_dotenv()\n",
    "    TOKEN = os.environ['TINKOFF_API_KEY']\n",
    "    \n",
    "    with Client(TOKEN) as client:\n",
    "        share = client.instruments.share_by(\n",
    "            id_type=2,\n",
    "            class_code=class_code_value,\n",
    "            id=id_value\n",
    "        )\n",
    "            \n",
    "    return share.instrument.figi"
   ]
  },
  {
   "cell_type": "code",
   "execution_count": 6,
   "metadata": {},
   "outputs": [
    {
     "data": {
      "text/plain": [
       "'BBG004730JJ5'"
      ]
     },
     "execution_count": 6,
     "metadata": {},
     "output_type": "execute_result"
    }
   ],
   "source": [
    "figi_converter_share_func(\"TQBR\",\"MOEX\")"
   ]
  }
 ],
 "metadata": {
  "kernelspec": {
   "display_name": "sovkombank-recsys",
   "language": "python",
   "name": "python3"
  },
  "language_info": {
   "codemirror_mode": {
    "name": "ipython",
    "version": 3
   },
   "file_extension": ".py",
   "mimetype": "text/x-python",
   "name": "python",
   "nbconvert_exporter": "python",
   "pygments_lexer": "ipython3",
   "version": "3.11.5"
  }
 },
 "nbformat": 4,
 "nbformat_minor": 2
}
