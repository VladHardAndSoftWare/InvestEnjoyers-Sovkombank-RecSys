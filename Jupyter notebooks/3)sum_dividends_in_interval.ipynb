{
 "cells": [
  {
   "cell_type": "code",
   "execution_count": 50,
   "metadata": {},
   "outputs": [],
   "source": [
    "from dotenv import load_dotenv\n",
    "import os\n",
    "\n",
    "from datetime import timedelta\n",
    "\n",
    "from tinkoff.invest import CandleInterval, Client\n",
    "from tinkoff.invest.utils import now\n",
    "\n",
    "\n",
    "def sum_dividends_in_interval_func(figi_number, from_timestamp, to_timestamp):\n",
    "    \n",
    "    load_dotenv()\n",
    "    TOKEN = os.environ['TINKOFF_API_KEY']\n",
    "\n",
    "    # dividends = []\n",
    "\n",
    "    with Client(TOKEN) as client:\n",
    "        dividends = client.instruments.get_dividends(\n",
    "            figi = figi_number,\n",
    "            from_ = from_timestamp,\n",
    "            to = to_timestamp\n",
    "        )\n",
    "    \n",
    "    sum_div = 0\n",
    "    \n",
    "    for dividend in dividends.dividends:\n",
    "        # print(dividend)\n",
    "        sum_div += dividend.dividend_net.units + dividend.dividend_net.nano/1000000000\n",
    "\n",
    "    print(sum_div)"
   ]
  },
  {
   "cell_type": "code",
   "execution_count": 51,
   "metadata": {},
   "outputs": [
    {
     "name": "stdout",
     "output_type": "stream",
     "text": [
      "104.59\n"
     ]
    }
   ],
   "source": [
    "import datetime\n",
    "\n",
    "sum_dividends_in_interval_func(\"BBG004730N88\", datetime.datetime(2012, 11, 4, tzinfo=datetime.timezone.utc), datetime.datetime(2023, 11, 4, tzinfo=datetime.timezone.utc))"
   ]
  }
 ],
 "metadata": {
  "kernelspec": {
   "display_name": "sovkombank-recsys",
   "language": "python",
   "name": "python3"
  },
  "language_info": {
   "codemirror_mode": {
    "name": "ipython",
    "version": 3
   },
   "file_extension": ".py",
   "mimetype": "text/x-python",
   "name": "python",
   "nbconvert_exporter": "python",
   "pygments_lexer": "ipython3",
   "version": "3.11.5"
  }
 },
 "nbformat": 4,
 "nbformat_minor": 2
}
