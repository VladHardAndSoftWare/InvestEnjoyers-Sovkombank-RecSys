{
 "cells": [
  {
   "cell_type": "code",
   "execution_count": 9,
   "metadata": {},
   "outputs": [],
   "source": [
    "from dotenv import load_dotenv\n",
    "import os\n",
    "\n",
    "from datetime import timedelta\n",
    "\n",
    "from tinkoff.invest import CandleInterval, Client\n",
    "from tinkoff.invest.utils import now\n",
    "\n",
    "\n",
    "def date_shares_prices_func(figi_number, timestamp):\n",
    "    \n",
    "    load_dotenv()\n",
    "    TOKEN = os.environ['TINKOFF_API_KEY']\n",
    "\n",
    "    candles = []\n",
    "\n",
    "    with Client(TOKEN) as client:\n",
    "        for candle in client.get_all_candles(\n",
    "            figi = figi_number,\n",
    "            from_ = timestamp,\n",
    "            to = timestamp + timedelta(days=1),\n",
    "            interval = CandleInterval.CANDLE_INTERVAL_HOUR\n",
    "        ):\n",
    "            candles.append(candle)\n",
    "\n",
    "    return [candle.open.units + candle.open.nano/1000000000 for candle in candles][0]"
   ]
  },
  {
   "cell_type": "code",
   "execution_count": 10,
   "metadata": {},
   "outputs": [
    {
     "data": {
      "text/plain": [
       "125.95"
      ]
     },
     "execution_count": 10,
     "metadata": {},
     "output_type": "execute_result"
    }
   ],
   "source": [
    "import datetime\n",
    "\n",
    "date_shares_prices_func(\"BBG004730N88\", datetime.datetime(2022, 11, 4, tzinfo=datetime.timezone.utc))"
   ]
  }
 ],
 "metadata": {
  "kernelspec": {
   "display_name": "sovkombank-recsys",
   "language": "python",
   "name": "python3"
  },
  "language_info": {
   "codemirror_mode": {
    "name": "ipython",
    "version": 3
   },
   "file_extension": ".py",
   "mimetype": "text/x-python",
   "name": "python",
   "nbconvert_exporter": "python",
   "pygments_lexer": "ipython3",
   "version": "3.11.5"
  }
 },
 "nbformat": 4,
 "nbformat_minor": 2
}
